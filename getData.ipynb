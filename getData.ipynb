{
 "cells": [
  {
   "cell_type": "code",
   "execution_count": null,
   "metadata": {},
   "outputs": [],
   "source": [
    "import os\n",
    "import pandas as pd\n",
    "import shutil"
   ]
  },
  {
   "cell_type": "code",
   "execution_count": null,
   "metadata": {},
   "outputs": [],
   "source": [
    "def getFilePath(path):\n",
    "    for ele in os.listdir(path):\n",
    "        child_path = os.path.join(path, ele)\n",
    "\n",
    "        if os.path.isfile(child_path):\n",
    "          if ele == \"sarcasm_detection_dataset.json\":\n",
    "            return child_path\n",
    "        else:\n",
    "            res = getFilePath(child_path)\n",
    "            if (res != \"\"):\n",
    "                return res\n",
    "    return \"\"\n",
    "def getRawData(gitLink):\n",
    "    path = f\"/content/{gitLink[gitLink.rfind('/') + 1:gitLink.rfind('.')]}\"\n",
    "    pathToFile = getFilePath(path)\n",
    "    data = pd.read_json(pathToFile)\n",
    "    shutil.rmtree(path)\n",
    "    return data"
   ]
  },
  {
   "cell_type": "code",
   "execution_count": null,
   "metadata": {},
   "outputs": [],
   "source": [
    "data = pd.DataFrame({'headline': [], 'is_sarcastic': []})"
   ]
  },
  {
   "cell_type": "code",
   "execution_count": null,
   "metadata": {},
   "outputs": [],
   "source": [
    "acceptGitLinks = [\n",
    "    \"https://github.com/HungStark/sarcasm_detection_dataset.git\", # sacatic\n",
    "    \"https://github.com/TruongNoDame/Sarcasm-Detection.git\", # sacatic\n",
    "    \"https://github.com/npk7264/CS114.git\", # sacatic\n",
    "    \"https://github.com/ngcthc/CS114-ML-Public.git\", # sacaic\n",
    "    \"https://github.com/Kuma221203/CS114.git\" # sacatic\n",
    "]\n",
    "needToChangeColumnsGitLinks = [\n",
    "    \"https://github.com/phongidoit/CS114.git\",\n",
    "    \"https://github.com/Sang-UIT/CS114.git\"\n",
    "]"
   ]
  },
  {
   "cell_type": "code",
   "execution_count": null,
   "metadata": {},
   "outputs": [],
   "source": [
    "for gitLink in acceptGitLinks:\n",
    "    print(f\"Link git clone: {gitLink}\")\n",
    "    !git clone -q {gitLink}\n",
    "    _data = getRawData(gitLink)\n",
    "    # print(_data.head())\n",
    "    if \"article_link\" in _data:\n",
    "        _data.drop(columns=['article_link'], inplace=True)\n",
    "    _data = _data.rename(columns={'title': 'headline'})\n",
    "    prevCount = _data.shape[0]\n",
    "    _data = _data.drop_duplicates()\n",
    "    recCount = _data.shape[0]\n",
    "    print(f\"Ratio duplicate: {(prevCount - recCount) / prevCount}\")\n",
    "    prevCount = data.shape[0]\n",
    "    data = data.merge(_data, how=\"outer\")\n",
    "    recCount = data.shape[0]\n",
    "    print(data.head())\n",
    "    print(f\"Số data sample mới: {recCount - prevCount}; Số lượng: {data.shape[0]}\")\n",
    "    print()"
   ]
  },
  {
   "cell_type": "code",
   "execution_count": null,
   "metadata": {},
   "outputs": [],
   "source": [
    "for gitLink in needToChangeColumnsGitLinks:\n",
    "    !git clone {gitLink}\n",
    "    _data = getRawData(gitLink)\n",
    "    print(_data.head())\n",
    "    if \"article_link\" in _data:\n",
    "        _data.drop(columns=['article_link'], inplace=True)\n",
    "    _data = _data.rename(columns={'title': 'headline', \"is_sarcasm\": \"is_sarcastic\"})\n",
    "    prevCount = _data.shape[0]\n",
    "    _data = _data.drop_duplicates()\n",
    "    recCount = _data.shape[0]\n",
    "    print(f\"Ratio duplicate: {(prevCount - recCount) / prevCount}\")\n",
    "    prevCount = data.shape[0]\n",
    "    data = data.merge(_data, how=\"outer\")\n",
    "    recCount = data.shape[0]\n",
    "    print(data.head())\n",
    "    print(f\"Số data sample mới: {recCount - prevCount}; Số lượng: {data.shape[0]}\")\n",
    "    print()"
   ]
  },
  {
   "cell_type": "code",
   "execution_count": null,
   "metadata": {},
   "outputs": [],
   "source": [
    "print(data.describe())\n",
    "print(f\"Số lượng sample is_sarcastic = 1: {(data['is_sarcastic'] == 1).sum()}\")\n",
    "print(f\"Số lượng sample is_sarcastic = 0: {(data['is_sarcastic'] == 0).sum()}\")"
   ]
  }
 ],
 "metadata": {
  "language_info": {
   "name": "python"
  },
  "orig_nbformat": 4
 },
 "nbformat": 4,
 "nbformat_minor": 2
}
